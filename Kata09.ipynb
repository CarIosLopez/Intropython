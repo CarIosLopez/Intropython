{
 "cells": [
  {
   "cell_type": "markdown",
   "metadata": {},
   "source": [
    "# Ejercicio: Uso de funciones en Python"
   ]
  },
  {
   "cell_type": "code",
   "execution_count": 48,
   "metadata": {},
   "outputs": [],
   "source": [
    "# Función para leer 3 tanques de combustible y muestre el promedio\n",
    "\n",
    "def average(tank1, tank2, tank3):\n",
    "    total_average = (tank1 + tank2 +  tank3) / 3\n",
    "    return f\"\"\"Fuel Report:\n",
    "    Total Average: {total_average}%\n",
    "    Tank 1: {tank1}%\n",
    "    Tank 2: {tank2}% \n",
    "    Tank 3: {tank3}% \n",
    "    \"\"\""
   ]
  },
  {
   "cell_type": "code",
   "execution_count": 49,
   "metadata": {},
   "outputs": [
    {
     "name": "stdout",
     "output_type": "stream",
     "text": [
      "Fuel Report:\n",
      "    Total Average: 70.0%\n",
      "    Tank 1: 50%\n",
      "    Tank 2: 90% \n",
      "    Tank 3: 70% \n",
      "    \n"
     ]
    }
   ],
   "source": [
    "# Llamamos a la función que genera el reporte print(funcion(tanque1, tanque2, tanque3))\n",
    "\n",
    "print(average(50, 90, 70))"
   ]
  },
  {
   "cell_type": "code",
   "execution_count": 50,
   "metadata": {},
   "outputs": [
    {
     "data": {
      "text/plain": [
       "84.0"
      ]
     },
     "execution_count": 50,
     "metadata": {},
     "output_type": "execute_result"
    }
   ],
   "source": [
    "# Función promedio \n",
    "\n",
    "def average0(values):\n",
    "    total = sum(values)\n",
    "    items = len(values)\n",
    "    return total / items\n",
    "average0([88, 85, 79])"
   ]
  },
  {
   "cell_type": "code",
   "execution_count": 51,
   "metadata": {},
   "outputs": [
    {
     "name": "stdout",
     "output_type": "stream",
     "text": [
      "Fuel Report:\n",
      "    Total Average: 82.33333333333333%\n",
      "    Tank 1: 60%\n",
      "    Tank 2: 99%\n",
      "    Tank 3: 88%\n",
      "    \n"
     ]
    }
   ],
   "source": [
    "# Actualiza la función\n",
    "\n",
    "def average(tank1, tank2, tank3):\n",
    "    return f\"\"\"Fuel Report:\n",
    "    Total Average: {average0([tank1, tank2, tank3])}%\n",
    "    Tank 1: {tank1}%\n",
    "    Tank 2: {tank2}%\n",
    "    Tank 3: {tank3}%\n",
    "    \"\"\"\n",
    "\n",
    "print(average(60, 99, 88))"
   ]
  },
  {
   "cell_type": "markdown",
   "metadata": {},
   "source": [
    "# Ejercicio 2: Trabajo con argumentos de palabra clave"
   ]
  },
  {
   "cell_type": "code",
   "execution_count": 52,
   "metadata": {},
   "outputs": [
    {
     "name": "stdout",
     "output_type": "stream",
     "text": [
      "\n",
      "    Misión a: Luna\n",
      "    Tiempo total de vuelo: 1140 horas\n",
      "    Combustible total: 1828 litros\n",
      "    \n"
     ]
    }
   ],
   "source": [
    "# Función con un informe preciso de la misión. Considera hora de prelanzamiento, tiempo de vuelo, destino, tanque externo y tanque interno\n",
    "\n",
    "def informe(prelanzamiento, tiempo_de_vuelo, destino, tanque_externo, tanque_interno):\n",
    "    return f\"\"\"\n",
    "    Misión a: {destino}\n",
    "    Tiempo total de vuelo: {prelanzamiento + tiempo_de_vuelo} horas\n",
    "    Combustible total: {tanque_externo + tanque_interno} litros\n",
    "    \"\"\"\n",
    "\n",
    "print(informe(60, 1080, 'Luna', 885, 943))"
   ]
  },
  {
   "cell_type": "code",
   "execution_count": 53,
   "metadata": {},
   "outputs": [
    {
     "name": "stdout",
     "output_type": "stream",
     "text": [
      "\n",
      "    Misión a: Moon\n",
      "    Tiempo total de vuelo: 2160 minutos\n",
      "    Combustible total: 5340 litros\n",
      "    \n"
     ]
    }
   ],
   "source": [
    "# Escribe tu nueva función de reporte considerando lo anterior\n",
    "\n",
    "def informe(destino, *minutes, **fuel_reservoirs):\n",
    "    return f\"\"\"\n",
    "    Misión a: {destino}\n",
    "    Tiempo total de vuelo: {sum(minutes)} minutos\n",
    "    Combustible total: {sum(fuel_reservoirs.values())} litros\n",
    "    \"\"\"\n",
    "\n",
    "print(informe('Moon', 120, 2000, 40, interno = 3000, externo = 2340))"
   ]
  },
  {
   "cell_type": "code",
   "execution_count": 54,
   "metadata": {},
   "outputs": [
    {
     "name": "stdout",
     "output_type": "stream",
     "text": [
      "\n",
      "    Mission to Moon\n",
      "    Total travel time: 1449 minutes\n",
      "    Total fuel left: 5450\n",
      "    main tank --> 3000 gallons left\n",
      "external tank --> 2450 gallons left\n",
      "\n"
     ]
    }
   ],
   "source": [
    "# Escribe tu nueva función\n",
    "\n",
    "def mission_report(destination, *minutes, **fuel_reservoirs):\n",
    "    main_report = f\"\"\"\n",
    "    Mission to {destination}\n",
    "    Total travel time: {sum(minutes)} minutes\n",
    "    Total fuel left: {sum(fuel_reservoirs.values())}\n",
    "    \"\"\"\n",
    "    for tank_name, gallons in fuel_reservoirs.items():\n",
    "        main_report += f\"{tank_name} tank --> {gallons} gallons left\\n\"\n",
    "    return main_report\n",
    "\n",
    "print(mission_report(\"Moon\", 50, 395, 1004, main = 3000, external = 2450))"
   ]
  }
 ],
 "metadata": {
  "interpreter": {
   "hash": "9e458012f8a67bb69ccaf5b1588013eff3ae5d5e32644d53af8c69ebf94542e6"
  },
  "kernelspec": {
   "display_name": "Python 3.10.2 64-bit",
   "language": "python",
   "name": "python3"
  },
  "language_info": {
   "codemirror_mode": {
    "name": "ipython",
    "version": 3
   },
   "file_extension": ".py",
   "mimetype": "text/x-python",
   "name": "python",
   "nbconvert_exporter": "python",
   "pygments_lexer": "ipython3",
   "version": "3.10.2"
  },
  "orig_nbformat": 4
 },
 "nbformat": 4,
 "nbformat_minor": 2
}
