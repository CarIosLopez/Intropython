{
 "cells": [
  {
   "cell_type": "markdown",
   "metadata": {},
   "source": [
    "# Ejercicio - Escribir declaraciones if, else, y elif"
   ]
  },
  {
   "cell_type": "code",
   "execution_count": null,
   "metadata": {},
   "outputs": [],
   "source": [
    "asteroide = 49\n",
    "\n",
    "if asteroide > 25:\n",
    "    print(\"¡CUIDADO! UN ASTEROIDE SE APROXIMA A UNA VELOCIDAD DE \" + str(asteroide) + \" kilometros por segundo.\")\n",
    "else:\n",
    "    print(\"Podemos vivir un día más sin preocuparnos por asteroides\")"
   ]
  },
  {
   "cell_type": "code",
   "execution_count": 1,
   "metadata": {},
   "outputs": [
    {
     "name": "stdout",
     "output_type": "stream",
     "text": [
      "No hay asteroides por ver ni de los cuales preocuparse por el momento\n"
     ]
    }
   ],
   "source": [
    "asteroide = 19 \n",
    "if asteroide >= 20:\n",
    "    print(\"¡UN ESPECTACUTLO SE APROXIMA! ¡TE ESPERA EN EL CIELO, TIENES QUE VERLO!\")\n",
    "elif asteroide == 20:\n",
    "    print(\"¡UN ESPECTACUTLO SE APROXIMA! ¡TE ESPERA EN EL CIELO, TIENES QUE VERLO!\")\n",
    "else:\n",
    "    print(\"No hay asteroides por ver ni de los cuales preocuparse por el momento\")"
   ]
  },
  {
   "cell_type": "markdown",
   "metadata": {},
   "source": [
    "# Ejercicio: Uso de operadores and y or"
   ]
  },
  {
   "cell_type": "code",
   "execution_count": 7,
   "metadata": {},
   "outputs": [
    {
     "name": "stdout",
     "output_type": "stream",
     "text": [
      "¡CUIDADO! UN ASTEROIDE SE APROXIMA A UNA VELOCIDAD DE 27 KILOMETROS POR SEGUNDO.\n",
      "Despidete de todos, se acerca el fin de la Tierra.\n"
     ]
    }
   ],
   "source": [
    "velocidad = 27\n",
    "tamaño = 1001\n",
    "\n",
    "if velocidad > 25:\n",
    "    print(\"¡CUIDADO! UN ASTEROIDE SE APROXIMA A UNA VELOCIDAD DE \" + str(velocidad) + \" KILOMETROS POR SEGUNDO.\") \n",
    "if tamaño > 25 and tamaño < 1000:\n",
    "    print(\"¡CUIDADO! UN ASTEROIDE DEL TAMAÑO DE \" + str(tamaño) + \" METROS SE APROXIMA A LA TIERRA.\") \n",
    "if tamaño > 1000:\n",
    "    print(\"Despidete de todos, se acerca el fin de la Tierra.\")\n",
    "elif velocidad >= 20:\n",
    "    print(\"¡UN ESPECTACUTLO SE APROXIMA! ¡TE ESPERA EN EL CIELO, TIENES QUE VERLO!\")\n",
    "else:\n",
    "    print(\"No hay asteroides por ver ni de los cuales preocuparse por el momento\")\n",
    "\n"
   ]
  },
  {
   "cell_type": "code",
   "execution_count": null,
   "metadata": {},
   "outputs": [],
   "source": []
  }
 ],
 "metadata": {
  "interpreter": {
   "hash": "9e458012f8a67bb69ccaf5b1588013eff3ae5d5e32644d53af8c69ebf94542e6"
  },
  "kernelspec": {
   "display_name": "Python 3.10.2 64-bit",
   "language": "python",
   "name": "python3"
  },
  "language_info": {
   "codemirror_mode": {
    "name": "ipython",
    "version": 3
   },
   "file_extension": ".py",
   "mimetype": "text/x-python",
   "name": "python",
   "nbconvert_exporter": "python",
   "pygments_lexer": "ipython3",
   "version": "3.10.2"
  },
  "orig_nbformat": 4
 },
 "nbformat": 4,
 "nbformat_minor": 2
}
